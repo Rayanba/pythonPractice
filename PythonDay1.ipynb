{
 "cells": [
  {
   "cell_type": "code",
   "execution_count": null,
   "metadata": {},
   "outputs": [
    {
     "name": "stdout",
     "output_type": "stream",
     "text": [
      "Enter User Name:Rayan\n",
      "welcome Rayan\n"
     ]
    }
   ],
   "source": [
    "userName = input(\"Enter User Name:\")\n",
    "print(\"welcome\", userName)\n",
    "#Second\n",
    "fn = float(input(\"Enter First Number\"))\n",
    "sn = float(input(\"Enter Second Number\"))\n",
    "print(fn+sn)"
   ]
  },
  {
   "cell_type": "code",
   "execution_count": null,
   "metadata": {},
   "outputs": [],
   "source": []
  }
 ],
 "metadata": {
  "kernelspec": {
   "display_name": "Python 3",
   "language": "python",
   "name": "python3"
  },
  "language_info": {
   "codemirror_mode": {
    "name": "ipython",
    "version": 3
   },
   "file_extension": ".py",
   "mimetype": "text/x-python",
   "name": "python",
   "nbconvert_exporter": "python",
   "pygments_lexer": "ipython3",
   "version": "3.8.5"
  }
 },
 "nbformat": 4,
 "nbformat_minor": 4
}
