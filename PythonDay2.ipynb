{
 "cells": [
  {
   "cell_type": "code",
   "execution_count": null,
   "metadata": {},
   "outputs": [],
   "source": [
    "import turtle\n",
    "turtle.shape(\"turtle\")\n",
    "turtle.speed(100)\n",
    "scale = 0\n",
    "for i in range(60):\n",
    "    scale += 5\n",
    "    for x in range(4):\n",
    "        turtle.forward(25+scale)\n",
    "        turtle.right(90)\n",
    "    turtle.right(5)"
   ]
  },
  {
   "cell_type": "code",
   "execution_count": 3,
   "metadata": {},
   "outputs": [
    {
     "name": "stdout",
     "output_type": "stream",
     "text": [
      "Enter Minmum number to guess:0\n",
      "Enter Maximum number to guess:50\n",
      "Enter how many shot you want to try:3\n",
      "Choose a number: 1\n",
      "Wrong!\n",
      "Choose a number: 2\n",
      "Wrong!\n",
      "Choose a number: 3\n",
      "Wrong!\n",
      "out of shots\n"
     ]
    }
   ],
   "source": [
    "import random\n",
    "min = int(input(\"Enter Minmum number to guess:\"))\n",
    "max = int(input(\"Enter Maximum number to guess:\"))\n",
    "r = random.randrange(min, max)\n",
    "counter = int(input(\"Enter how many shot you want to try:\"))\n",
    "for i in range(counter):\n",
    "    guss = int(input(\"Choose a number: \"))\n",
    "    if guss == r:\n",
    "        print (\"You Win\")\n",
    "    else:\n",
    "        print( \"Wrong!\")\n",
    "print(\"out of shots\")\n",
    "    \n"
   ]
  },
  {
   "cell_type": "code",
   "execution_count": null,
   "metadata": {},
   "outputs": [],
   "source": [
    "p = \"python\\n\"\n",
    "print(100*p)"
   ]
  },
  {
   "cell_type": "code",
   "execution_count": null,
   "metadata": {},
   "outputs": [],
   "source": []
  },
  {
   "cell_type": "code",
   "execution_count": null,
   "metadata": {},
   "outputs": [],
   "source": []
  }
 ],
 "metadata": {
  "kernelspec": {
   "display_name": "Python 3",
   "language": "python",
   "name": "python3"
  },
  "language_info": {
   "codemirror_mode": {
    "name": "ipython",
    "version": 3
   },
   "file_extension": ".py",
   "mimetype": "text/x-python",
   "name": "python",
   "nbconvert_exporter": "python",
   "pygments_lexer": "ipython3",
   "version": "3.8.5"
  }
 },
 "nbformat": 4,
 "nbformat_minor": 4
}
